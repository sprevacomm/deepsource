{
 "cells": [
  {
   "cell_type": "code",
   "execution_count": 6,
   "id": "50a62dda-48dd-4395-88ba-da2e0d98921b",
   "metadata": {},
   "outputs": [
    {
     "name": "stdout",
     "output_type": "stream",
     "text": [
      "Welcome to the Glue Interactive Sessions Kernel\n",
      "For more information on available magic commands, please type %help in any new cell.\n",
      "\n",
      "Please view our Getting Started page to access the most up-to-date information on the Interactive Sessions kernel: https://docs.aws.amazon.com/glue/latest/dg/interactive-sessions.html\n",
      "Setting Glue version to: 4.0\n",
      "Previous number of workers: None\n",
      "Setting new number of workers to: 2\n",
      "Previous worker type: None\n",
      "Setting new worker type to: G.4X\n",
      "Current idle_timeout is None minutes.\n",
      "idle_timeout has been set to 10 minutes.\n",
      "Previous profile: None\n",
      "Setting new profile to: intellibridge-demo\n"
     ]
    }
   ],
   "source": [
    "%glue_version 4.0\n",
    "%number_of_workers 2\n",
    "%worker_type G.4X\n",
    "%idle_timeout 10\n",
    "%profile intellibridge-demo"
   ]
  },
  {
   "cell_type": "code",
   "execution_count": 1,
   "id": "b149bdb4-cb23-4e60-93f2-679da528b9f3",
   "metadata": {},
   "outputs": [
    {
     "name": "stdout",
     "output_type": "stream",
     "text": [
      "Trying to create a Glue session for the kernel.\n",
      "Session Type: etl\n",
      "Worker Type: G.4X\n",
      "Number of Workers: 2\n",
      "Session ID: 9bfc816f-5d54-4317-9cfc-38c2d497874f\n",
      "Applying the following default arguments:\n",
      "--glue_kernel_version 1.0.3\n",
      "--enable-glue-datacatalog true\n",
      "Waiting for session 9bfc816f-5d54-4317-9cfc-38c2d497874f to get into ready status...\n",
      "Session 9bfc816f-5d54-4317-9cfc-38c2d497874f has been created.\n",
      "\n"
     ]
    }
   ],
   "source": [
    "from awsglue.context import GlueContext\n",
    "from awsglue.job import Job\n",
    "from awsglue.transforms import *\n",
    "from awsglue.utils import getResolvedOptions\n",
    "from pyspark.context import SparkContext\n",
    "\n",
    "sc = SparkContext.getOrCreate()\n",
    "glueContext = GlueContext(sc)\n",
    "spark = glueContext.spark_session\n",
    "job = Job(glueContext)"
   ]
  },
  {
   "cell_type": "code",
   "execution_count": 2,
   "id": "cf82807b-958c-4797-a7ef-ab6caf9bb522",
   "metadata": {},
   "outputs": [
    {
     "name": "stdout",
     "output_type": "stream",
     "text": [
      "+----------+--------------------+-----------+\n",
      "| namespace|           tableName|isTemporary|\n",
      "+----------+--------------------+-----------+\n",
      "|`covid-19`|alleninstitute_co...|      false|\n",
      "|`covid-19`|alleninstitute_me...|      false|\n",
      "|`covid-19`|aspirevc_crowd_tr...|      false|\n",
      "|`covid-19`|aspirevc_crowd_tr...|      false|\n",
      "|`covid-19`|cdc_moderna_vacci...|      false|\n",
      "|`covid-19`|cdc_pfizer_vaccin...|      false|\n",
      "|`covid-19`|       country_codes|      false|\n",
      "|`covid-19`|  county_populations|      false|\n",
      "|`covid-19`|covid_knowledge_g...|      false|\n",
      "|`covid-19`|covid_knowledge_g...|      false|\n",
      "|`covid-19`|covid_knowledge_g...|      false|\n",
      "|`covid-19`|covid_knowledge_g...|      false|\n",
      "|`covid-19`|covid_knowledge_g...|      false|\n",
      "|`covid-19`|covid_knowledge_g...|      false|\n",
      "|`covid-19`|covid_testing_sta...|      false|\n",
      "|`covid-19`|covid_testing_us_...|      false|\n",
      "|`covid-19`|covid_testing_us_...|      false|\n",
      "|`covid-19`|      covidcast_data|      false|\n",
      "|`covid-19`|  covidcast_metadata|      false|\n",
      "|`covid-19`|enigma_aggregatio...|      false|\n",
      "+----------+--------------------+-----------+\n",
      "only showing top 20 rows\n"
     ]
    }
   ],
   "source": [
    "%%sql\n",
    "show tables in `covid-19`"
   ]
  },
  {
   "cell_type": "code",
   "execution_count": 3,
   "id": "e70d42d4-b8ba-4c16-9472-fb6e5f7e77a0",
   "metadata": {},
   "outputs": [
    {
     "name": "stdout",
     "output_type": "stream",
     "text": [
      "+--------------+-----+---------------+-----------+------------------------+\n",
      "|            id|  id2|         county|      state|population estimate 2018|\n",
      "+--------------+-----+---------------+-----------+------------------------+\n",
      "|            Id|  Id2|         County|      State|    Population Estima...|\n",
      "|0500000US01085| 1085|        Lowndes|    Alabama|                    9974|\n",
      "|0500000US06057| 6057|         Nevada| California|                   99696|\n",
      "|0500000US29189|29189|      St. Louis|   Missouri|                  996945|\n",
      "|0500000US22021|22021|Caldwell Parish|  Louisiana|                    9960|\n",
      "|0500000US06019| 6019|         Fresno| California|                  994400|\n",
      "|0500000US28143|28143|         Tunica|Mississippi|                    9944|\n",
      "|0500000US05051| 5051|        Garland|   Arkansas|                   99154|\n",
      "|0500000US29079|29079|         Grundy|   Missouri|                    9914|\n",
      "|0500000US27063|27063|        Jackson|  Minnesota|                    9911|\n",
      "+--------------+-----+---------------+-----------+------------------------+\n"
     ]
    }
   ],
   "source": [
    "%%sql\n",
    "select * from `covid-19`.county_populations sort by `population estimate 2018` desc limit 10"
   ]
  },
  {
   "cell_type": "code",
   "execution_count": 4,
   "id": "e990194f-4409-4afe-b0be-c15e40c01991",
   "metadata": {},
   "outputs": [
    {
     "name": "stdout",
     "output_type": "stream",
     "text": [
      "root\n",
      "|-- id: string\n",
      "|-- id2: string\n",
      "|-- county: string\n",
      "|-- state: string\n",
      "|-- population estimate 2018: string\n"
     ]
    }
   ],
   "source": [
    "# Create a DynamicFrame of county_populations and print it's schema\n",
    "dyf = glueContext.create_dynamic_frame.from_catalog(\n",
    "    database=\"covid-19\", table_name=\"county_populations\"\n",
    ")\n",
    "dyf.printSchema()"
   ]
  },
  {
   "cell_type": "code",
   "execution_count": 5,
   "id": "cb668d91-ff97-41f5-a922-a7c42b319019",
   "metadata": {},
   "outputs": [
    {
     "name": "stdout",
     "output_type": "stream",
     "text": [
      "root\n",
      "|-- id: string\n",
      "|-- simple_id: int\n",
      "|-- county: string\n",
      "|-- state: string\n",
      "|-- population_est_2018: long\n"
     ]
    }
   ],
   "source": [
    "# Rename id2 to simple_id and convert to Int\n",
    "# Remove spaces and rename population est. and convert to Long\n",
    "mapped = dyf.apply_mapping(\n",
    "    mappings=[\n",
    "        (\"id\", \"string\", \"id\", \"string\"),\n",
    "        (\"id2\", \"string\", \"simple_id\", \"int\"),\n",
    "        (\"county\", \"string\", \"county\", \"string\"),\n",
    "        (\"state\", \"string\", \"state\", \"string\"),\n",
    "        (\"population estimate 2018\", \"string\", \"population_est_2018\", \"long\"),\n",
    "    ]\n",
    ")\n",
    "mapped.printSchema()"
   ]
  },
  {
   "cell_type": "code",
   "execution_count": 6,
   "id": "dd79a61d-23e7-4400-b8b1-e3a0c08ae5e2",
   "metadata": {},
   "outputs": [
    {
     "name": "stdout",
     "output_type": "stream",
     "text": [
      "+--------------+---------+---------+-------+-------------------+\n",
      "|            id|simple_id|   county|  state|population_est_2018|\n",
      "+--------------+---------+---------+-------+-------------------+\n",
      "|0500000US01001|     1001|  Autauga|Alabama|              55601|\n",
      "|0500000US01003|     1003|  Baldwin|Alabama|             218022|\n",
      "|0500000US01005|     1005|  Barbour|Alabama|              24881|\n",
      "|0500000US01007|     1007|     Bibb|Alabama|              22400|\n",
      "|0500000US01009|     1009|   Blount|Alabama|              57840|\n",
      "|0500000US01011|     1011|  Bullock|Alabama|              10138|\n",
      "|0500000US01013|     1013|   Butler|Alabama|              19680|\n",
      "|0500000US01015|     1015|  Calhoun|Alabama|             114277|\n",
      "|0500000US01017|     1017| Chambers|Alabama|              33615|\n",
      "|0500000US01019|     1019| Cherokee|Alabama|              26032|\n",
      "|0500000US01021|     1021|  Chilton|Alabama|              44153|\n",
      "|0500000US01023|     1023|  Choctaw|Alabama|              12841|\n",
      "|0500000US01025|     1025|   Clarke|Alabama|              23920|\n",
      "|0500000US01027|     1027|     Clay|Alabama|              13275|\n",
      "|0500000US01029|     1029| Cleburne|Alabama|              14987|\n",
      "|0500000US01031|     1031|   Coffee|Alabama|              51909|\n",
      "|0500000US01033|     1033|  Colbert|Alabama|              54762|\n",
      "|0500000US01035|     1035|  Conecuh|Alabama|              12277|\n",
      "|0500000US01037|     1037|    Coosa|Alabama|              10715|\n",
      "|0500000US01039|     1039|Covington|Alabama|              36986|\n",
      "+--------------+---------+---------+-------+-------------------+\n",
      "only showing top 20 rows\n",
      "\n",
      "/opt/amazon/spark/python/lib/pyspark.zip/pyspark/sql/dataframe.py:127: UserWarning: DataFrame constructor is internal. Do not directly use it.\n"
     ]
    }
   ],
   "source": [
    "mapped_df = mapped.toDF()\n",
    "mapped_df.show()"
   ]
  },
  {
   "cell_type": "code",
   "execution_count": 7,
   "id": "fec6c7d0-6f44-41b3-8256-142b5b7a4950",
   "metadata": {},
   "outputs": [
    {
     "name": "stdout",
     "output_type": "stream",
     "text": [
      "<awsglue.dynamicframe.DynamicFrame object at 0x7f6a32d300d0>\n"
     ]
    }
   ],
   "source": [
    "spark.sql(\"create database if not exists demo\")\n",
    "\n",
    "\n",
    "# Set glueContext sink for writing new table\n",
    "S3_BUCKET = \"intellibridge-falcon-glue-demo-us-east-1\"\n",
    "s3output = glueContext.getSink(\n",
    "    path=f\"s3://{S3_BUCKET}/interactive-sessions-blog/populations/\",\n",
    "    connection_type=\"s3\",\n",
    "    updateBehavior=\"UPDATE_IN_DATABASE\",\n",
    "    partitionKeys=[],\n",
    "    compression=\"snappy\",\n",
    "    enableUpdateCatalog=True,\n",
    "    transformation_ctx=\"s3output\",\n",
    ")\n",
    "s3output.setCatalogInfo(catalogDatabase=\"demo\", catalogTableName=\"populations\")\n",
    "s3output.setFormat(\"glueparquet\")\n",
    "s3output.writeFrame(mapped)\n",
    "\n",
    "# Write out ‘mapped’ to a table in Glue Catalog\n",
    "s3output = glueContext.getSink(\n",
    "    path=f\"s3://{S3_BUCKET}/interactive-sessions-blog/populations/\",\n",
    "    connection_type=\"s3\",\n",
    "    updateBehavior=\"UPDATE_IN_DATABASE\",\n",
    "    partitionKeys=[],\n",
    "    compression=\"snappy\",\n",
    "    enableUpdateCatalog=True,\n",
    "    transformation_ctx=\"s3output\",\n",
    ")\n",
    "s3output.setCatalogInfo(catalogDatabase=\"demo\", catalogTableName=\"populations\")\n",
    "s3output.setFormat(\"glueparquet\")\n",
    "s3output.writeFrame(mapped)"
   ]
  },
  {
   "cell_type": "code",
   "execution_count": 8,
   "id": "31927827-2987-4f3f-8cfa-d57fb091f224",
   "metadata": {},
   "outputs": [
    {
     "name": "stdout",
     "output_type": "stream",
     "text": [
      "+--------------+---------+-----------+----------+-------------------+\n",
      "|            id|simple_id|     county|     state|population_est_2018|\n",
      "+--------------+---------+-----------+----------+-------------------+\n",
      "|0500000US06037|     6037|Los Angeles|California|           10105518|\n",
      "|0500000US17031|    17031|       Cook|  Illinois|            5180493|\n",
      "|0500000US48201|    48201|     Harris|     Texas|            4698619|\n",
      "|0500000US04013|     4013|   Maricopa|   Arizona|            4410824|\n",
      "|0500000US06073|     6073|  San Diego|California|            3343364|\n",
      "|0500000US06059|     6059|     Orange|California|            3185968|\n",
      "|0500000US12086|    12086| Miami-Dade|   Florida|            2761581|\n",
      "|0500000US48113|    48113|     Dallas|     Texas|            2637772|\n",
      "|0500000US36047|    36047|      Kings|  New York|            2582830|\n",
      "|0500000US06065|     6065|  Riverside|California|            2450758|\n",
      "+--------------+---------+-----------+----------+-------------------+\n"
     ]
    }
   ],
   "source": [
    "%%sql\n",
    "select * from demo.populations sort by `population_est_2018` desc limit 10"
   ]
  },
  {
   "cell_type": "code",
   "execution_count": null,
   "id": "b0f62bcd-48f2-45f9-a293-f8608acb629a",
   "metadata": {},
   "outputs": [],
   "source": []
  }
 ],
 "metadata": {
  "kernelspec": {
   "display_name": "Glue PySpark",
   "language": "python",
   "name": "glue_pyspark"
  },
  "language_info": {
   "codemirror_mode": {
    "name": "python",
    "version": 3
   },
   "file_extension": ".py",
   "mimetype": "text/x-python",
   "name": "Python_Glue_Session",
   "pygments_lexer": "python3"
  }
 },
 "nbformat": 4,
 "nbformat_minor": 5
}
